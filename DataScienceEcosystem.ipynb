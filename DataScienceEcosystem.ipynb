{
 "cells": [
  {
   "cell_type": "markdown",
   "id": "b799eb37-8181-4dd6-8dfe-7b3f1c25a77f",
   "metadata": {},
   "source": [
    "# Data Science Tools and Ecosystem"
   ]
  },
  {
   "cell_type": "markdown",
   "id": "7ee72db9-894b-4d14-ad92-4080c9045edd",
   "metadata": {},
   "source": [
    "In this notebook, Data Science Tools and Ecosystem are summarized."
   ]
  },
  {
   "cell_type": "markdown",
   "id": "f7e9bda7-4269-4a57-a359-7445d9f9d958",
   "metadata": {},
   "source": [
    "**Objectives:**\n",
    "- List of popular languages for Data Science.\n",
    "- List of commonly used libraries for Data Science.\n",
    "- List od Open source Data Science Tools.\n",
    "- Few examples of evaluating arithmetic expressions in Python.\n"
   ]
  },
  {
   "cell_type": "markdown",
   "id": "9228722d-9fcd-4ce7-99a5-67f73d7bcb7b",
   "metadata": {},
   "source": [
    "Some of the popular languages that Data Scientists use are:\n",
    "1. Python.\n",
    "2. Java.\n",
    "3. R."
   ]
  },
  {
   "cell_type": "markdown",
   "id": "586f6723-f3f8-4db1-aa90-705127672693",
   "metadata": {},
   "source": [
    "Some of the commonly used libraries used by Data Scientists include:\n",
    "1. Numpy\n",
    "2. Pandas.\n",
    "3. Matplotlib."
   ]
  },
  {
   "cell_type": "markdown",
   "id": "b10da4a6-8e25-47bb-975b-aadf59c8d886",
   "metadata": {},
   "source": [
    "|Data Science Tools|\n",
    "|----------------- |\n",
    "|Project Jupiter|\n",
    "|Apache Spark|\n",
    "|IBM Watson Studio|"
   ]
  },
  {
   "cell_type": "markdown",
   "id": "4d28931b-54e2-4d55-9309-c27b7b46fcf8",
   "metadata": {},
   "source": [
    "### Below are a few examples of evaluating arithmetic expressions in Python.\n"
   ]
  },
  {
   "cell_type": "code",
   "execution_count": 8,
   "id": "01f46f4d-ccf4-4fa9-aab9-13aa16b3a64c",
   "metadata": {},
   "outputs": [
    {
     "data": {
      "text/plain": [
       "17"
      ]
     },
     "execution_count": 8,
     "metadata": {},
     "output_type": "execute_result"
    }
   ],
   "source": [
    "# This is a simple arithmetic expression to multiply and then add integers.\n",
    "(3*4)+5"
   ]
  },
  {
   "cell_type": "code",
   "execution_count": 2,
   "id": "80808a8e-06b2-43f5-a145-583f75b0cdec",
   "metadata": {},
   "outputs": [
    {
     "data": {
      "text/plain": [
       "3.3333333333333335"
      ]
     },
     "execution_count": 2,
     "metadata": {},
     "output_type": "execute_result"
    }
   ],
   "source": [
    "# This will convert 200 minutes to hours by diving by 60.\n",
    "(200/60)"
   ]
  },
  {
   "cell_type": "markdown",
   "id": "deee6e2f-b397-4de6-a7a3-c4fbf2f52d03",
   "metadata": {},
   "source": [
    "## Author\n",
    "Varun V"
   ]
  },
  {
   "cell_type": "code",
   "execution_count": null,
   "id": "36f552b1-2ba6-4850-a49e-46c7cf573665",
   "metadata": {},
   "outputs": [],
   "source": []
  }
 ],
 "metadata": {
  "kernelspec": {
   "display_name": "Python 3 (ipykernel)",
   "language": "python",
   "name": "python3"
  },
  "language_info": {
   "codemirror_mode": {
    "name": "ipython",
    "version": 3
   },
   "file_extension": ".py",
   "mimetype": "text/x-python",
   "name": "python",
   "nbconvert_exporter": "python",
   "pygments_lexer": "ipython3",
   "version": "3.12.8"
  }
 },
 "nbformat": 4,
 "nbformat_minor": 5
}
